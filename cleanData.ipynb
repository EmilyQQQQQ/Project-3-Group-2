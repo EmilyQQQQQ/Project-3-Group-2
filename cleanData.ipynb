{
 "cells": [
  {
   "cell_type": "code",
   "execution_count": 30,
   "metadata": {},
   "outputs": [],
   "source": [
    "from pymongo import MongoClient"
   ]
  },
  {
   "cell_type": "code",
   "execution_count": 31,
   "metadata": {},
   "outputs": [],
   "source": [
    "#Connect to the Database\n",
    "mongo = MongoClient(port=27017)\n",
    "db = mongo['earthquakes']"
   ]
  },
  {
   "cell_type": "code",
   "execution_count": 32,
   "metadata": {},
   "outputs": [
    {
     "data": {
      "text/plain": [
       "<pymongo.results.UpdateResult at 0x187404f6600>"
      ]
     },
     "execution_count": 32,
     "metadata": {},
     "output_type": "execute_result"
    }
   ],
   "source": [
    "#Remove unwanted columns\n",
    "db.hist_quakes.update_many({},{\"$unset\":{\"damage_millions_dollars\":1,\n",
    "                                         \"deaths_description\":1 ,\n",
    "                                         \"eq_mag_mb\":1,\n",
    "                                         \"eq_mag_mfa\":1,\n",
    "                                         \"eq_mag_ml\":1,\n",
    "                                         \"eq_mag_ms\":1,\n",
    "                                         \"eq_mag_mw\":1,\n",
    "                                         \"eq_mag_unk\":1,\n",
    "                                         \"flag_tsunami\":1,\n",
    "                                         \"houses_damaged_description\":1,\n",
    "                                         \"houses_destroyed_description\":1,\n",
    "                                         \"injuries_description\":1,\n",
    "                                         \"intensity\":1,\n",
    "                                         \"missing\":1,\n",
    "                                         \"missing_description\":1,\n",
    "                                         \"region_code\":1,\n",
    "                                         \"state\":1,\n",
    "                                         \"total_damage_description\":1,\n",
    "                                         \"total_damage_millions_dollars\":1,\n",
    "                                         \"total_deaths\":1,\n",
    "                                         \"total_deaths_description\":1,\n",
    "                                         \"total_houses_damaged\":1,\n",
    "                                         \"total_houses_damaged_description\":1,\n",
    "                                         \"total_houses_destroyed\":1,\n",
    "                                         \"total_houses_destroyed_description\":1,\n",
    "                                         \"total_injuries\":1,\n",
    "                                         \"total_injuries_description\":1,\n",
    "                                         \"total_missing\":1,\n",
    "                                         \"total_missing_description\":1}})\n"
   ]
  }
 ],
 "metadata": {
  "kernelspec": {
   "display_name": "dev",
   "language": "python",
   "name": "python3"
  },
  "language_info": {
   "codemirror_mode": {
    "name": "ipython",
    "version": 3
   },
   "file_extension": ".py",
   "mimetype": "text/x-python",
   "name": "python",
   "nbconvert_exporter": "python",
   "pygments_lexer": "ipython3",
   "version": "3.10.12"
  },
  "orig_nbformat": 4
 },
 "nbformat": 4,
 "nbformat_minor": 2
}
